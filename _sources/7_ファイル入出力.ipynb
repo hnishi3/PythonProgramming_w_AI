{
  "nbformat": 4,
  "nbformat_minor": 5,
  "metadata": {
    "noteable-chatgpt": {
      "create_notebook": {
        "openai_conversation_id": "e1f5fc80-6495-5615-ad33-f3803606cf22",
        "openai_ephemeral_user_id": "2eff5fa8-58ad-5673-a1ca-6cecb0b1378d",
        "openai_subdivision1_iso_code": "JP-04"
      }
    },
    "noteable": {
      "last_transaction_id": "49d0330c-ca2e-4a15-9304-075eba62a01d"
    },
    "selected_hardware_size": "small",
    "colab": {
      "provenance": [],
      "toc_visible": true
    },
    "language_info": {
      "name": "python"
    },
    "kernelspec": {
      "name": "python3",
      "display_name": "Python 3"
    }
  },
  "cells": [
    {
      "id": "5edb1fa1-da98-43f9-881a-3a58b13bc126",
      "cell_type": "markdown",
      "source": [
        "# レッスン7：ファイル入出力\n",
        "\n",
        "このレッスンでは、Pythonでのファイル入出力（I/O）について学習します。ファイルI/Oは、プログラムが外部のファイルとやり取りするための基本的な機能です。これにより、テキストファイルやCSV、画像、その他の形式のファイルを読み書きすることが可能になります。\n",
        "PythonのファイルI/Oには主に以下の3つのステップがあります：\n",
        "1. **ファイルを開く** - `open()`関数を使用してファイルを開きます。この関数はファイル名とモード（読み取り、書き込み、追加など）を引数に取ります。\n",
        "2. **ファイルを読み書きする** - `read()`、`write()`、`readline()`などのメソッドを使用してファイルを読み書きします。\n",
        "3. **ファイルを閉じる** - `close()`メソッドを使用してファイルを閉じます。ファイルを閉じることは、メモリを解放し、他のプログラムがそのファイルを使用できるようにするために重要です。\n",
        "これらの基本的なステップを通じて、PythonでファイルIOを行う方法を学びます。"
      ],
      "metadata": {
        "noteable": {
          "cell_type": "markdown"
        },
        "id": "5edb1fa1-da98-43f9-881a-3a58b13bc126"
      }
    },
    {
      "cell_type": "markdown",
      "source": [
        "注：ローカルなコンピュータとGoogle Colabでは環境が異なるため、最初の3つのセクションでは、書かれたコードは敢えて実行できないようになっています。4番目の「Google ColabでのファイルI/O」からはコードが実行できるようになっていますが、ファイルがない場合にはエラーが表示されます。"
      ],
      "metadata": {
        "id": "zHY6OSq5CL6f"
      },
      "id": "zHY6OSq5CL6f"
    },
    {
      "id": "5c35c555-8d38-421e-8aab-bce83faea51e",
      "cell_type": "markdown",
      "source": [
        "## ファイルを開く\n",
        "Pythonでファイルを開くには、`open()`関数を使用します。この関数は、ファイル名とモードを引数に取ります。モードは以下のようなものがあります：\n",
        "- `'r'` - 読み取りモード（デフォルト）\n",
        "- `'w'` - 書き込みモード（既存のファイルは削除されます）\n",
        "- `'a'` - 追記モード（ファイルが存在しない場合は新規作成します）\n",
        "- `'x'` - 排他的作成モード（ファイルが存在しない場合のみ新規作成します）\n",
        "また、モードには以下の修飾子を追加することもできます：\n",
        "- `'b'` - バイナリモード\n",
        "- `'t'` - テキストモード（デフォルト）\n",
        "例えば、テキストファイルを読み取りモードで開くには以下のようにします：\n",
        "```python\n",
        "f = open('myfile.txt', 'r')\n",
        "```\n",
        "このコードは、'myfile.txt'という名前のファイルを読み取りモードで開きます。ファイルオブジェクトは変数`f`に格納されます。"
      ],
      "metadata": {
        "noteable": {
          "cell_type": "markdown"
        },
        "id": "5c35c555-8d38-421e-8aab-bce83faea51e"
      }
    },
    {
      "id": "524fbced-e073-47a9-9045-5f4a21efc1d2",
      "cell_type": "markdown",
      "source": [
        "## ファイルを読み書きする\n",
        "ファイルオブジェクトが作成されたら、そのメソッドを使用してファイルを読み書きすることができます。以下に、最も一般的に使用されるいくつかのメソッドを示します：\n",
        "- `read(size)` - ファイルから最大`size`バイトを読み取ります。`size`が指定されていない場合、または負の数が指定されている場合、ファイルの残り全体を読み取ります。\n",
        "- `readline()` - ファイルから1行を読み取ります。\n",
        "- `write(string)` - ファイルに`string`を書き込みます。戻り値は書き込まれた文字数です。\n",
        "以下に、ファイルを読み取る例を示します：\n",
        "```python\n",
        "f = open('myfile.txt', 'r')\n",
        "print(f.read())\n",
        "f.close()\n",
        "```\n",
        "このコードは、'myfile.txt'という名前のファイルを開き、その内容を読み取り、結果を表示します。最後に、`close()`メソッドを使用してファイルを閉じます。"
      ],
      "metadata": {
        "noteable": {
          "cell_type": "markdown"
        },
        "id": "524fbced-e073-47a9-9045-5f4a21efc1d2"
      }
    },
    {
      "id": "0386549f-af9c-4863-8b28-081d39868521",
      "cell_type": "markdown",
      "source": [
        "## ファイルを閉じる\n",
        "ファイルを開いた後は、必ず最後にそれを閉じる必要があります。これは、`close()`メソッドを使用して行います。ファイルを閉じることは重要で、これにより未保存の変更が書き込まれ、メモリが解放されます。また、他のプログラムやスクリプトがそのファイルを使用できるようになります。\n",
        "```python\n",
        "f = open('myfile.txt', 'r')\n",
        "print(f.read())\n",
        "f.close()\n",
        "```\n",
        "このコードは、'myfile.txt'という名前のファイルを開き、その内容を読み取り、結果を表示します。そして、`close()`メソッドを使用してファイルを閉じます。\n",
        "ファイルを閉じることを忘れると、データの損失やバグの原因となる可能性があります。そのため、Pythonでは`with`ステートメントを使用してファイルを安全に扱うことが推奨されています。`with`ステートメントを使用すると、ブロックの実行が終了した時点でファイルが自動的に閉じられます。\n",
        "```python\n",
        "with open('myfile.txt', 'r') as f:\n",
        "    print(f.read())\n",
        "```\n",
        "このコードは、'myfile.txt'という名前のファイルを開き、その内容を読み取り、結果を表示します。`with`ステートメントのブロックが終了すると、ファイルは自動的に閉じられます。"
      ],
      "metadata": {
        "noteable": {
          "cell_type": "markdown"
        },
        "id": "0386549f-af9c-4863-8b28-081d39868521"
      }
    },
    {
      "cell_type": "markdown",
      "source": [
        "## Google ColabでのファイルIO\n",
        "Google Colabでは、ローカルファイルシステムへのアクセスが制限されています。そのため、ファイルIOを行うためには特別な手順が必要です。\n",
        "\n",
        "Google Colabでは、Google Driveをファイルストレージとして使用することが一般的です。Google Driveをマウントすると、Google Driveのファイルに直接アクセスできるようになります。\n",
        "\n",
        "以下に、Google Driveをマウントし、Google Drive上のファイルを読み書きするための基本的な手順を示します。"
      ],
      "metadata": {
        "id": "O8ipPNgYBLVM"
      },
      "id": "O8ipPNgYBLVM"
    },
    {
      "cell_type": "code",
      "source": [
        "from google.colab import drive\n",
        "drive.mount('/content/drive')"
      ],
      "metadata": {
        "colab": {
          "base_uri": "https://localhost:8080/"
        },
        "id": "hBSG0HkWBAh0",
        "outputId": "c3952dec-de57-444a-d6ec-165c97c2018e"
      },
      "id": "hBSG0HkWBAh0",
      "execution_count": null,
      "outputs": [
        {
          "output_type": "stream",
          "name": "stdout",
          "text": [
            "Mounted at /content/drive\n"
          ]
        }
      ]
    },
    {
      "cell_type": "markdown",
      "source": [
        "上記のコードを実行すると、Googleアカウントへのログインを求めるプロンプトが表示されます。ログインし、必要に応じて認証コードをコピーしてColabに貼り付けると、Google Driveがマウントされます。\n",
        "\n",
        "Google Driveがマウントされると、`/content/drive/My Drive/`からGoogle Driveのファイルにアクセスできます。以下に、Google Drive上のテキストファイルを開き、読み取る例を示します。"
      ],
      "metadata": {
        "id": "rOYdeR9nBkvk"
      },
      "id": "rOYdeR9nBkvk"
    },
    {
      "cell_type": "code",
      "source": [
        "with open('/content/drive/My Drive/myfile.txt', 'r') as f\n",
        "  print(f.read())"
      ],
      "metadata": {
        "id": "j4du0P3QBV1f"
      },
      "id": "j4du0P3QBV1f",
      "execution_count": null,
      "outputs": []
    },
    {
      "cell_type": "markdown",
      "source": [
        "このコードは、Google Drive上の`myfile.txt`という名前のファイルを開き、その内容を読み取り、結果を表示します。`myfile.txt`がない場合はエラーになります。\n",
        "\n",
        "また、Google Colabでは、以下のようにしてローカルファイルシステムからファイルをアップロードすることもできます。"
      ],
      "metadata": {
        "id": "21wtVc1sBe3D"
      },
      "id": "21wtVc1sBe3D"
    },
    {
      "cell_type": "code",
      "source": [
        "from google.colab import files\n",
        "uploaded = files.upload()"
      ],
      "metadata": {
        "id": "Vv_rkbu1BVnZ"
      },
      "id": "Vv_rkbu1BVnZ",
      "execution_count": null,
      "outputs": []
    },
    {
      "cell_type": "markdown",
      "source": [
        "このコードを実行すると、ファイル選択ダイアログが表示されます。アップロードしたいファイルを選択すると、そのファイルは**Google DriveではなくColabのランタイム環境（このノートブックを実行するために用意された、一時的な環境）にアップロードされます。**アップロードされたファイルは、次のようにして開くことができます。"
      ],
      "metadata": {
        "id": "J64yVp3DBZSe"
      },
      "id": "J64yVp3DBZSe"
    },
    {
      "cell_type": "code",
      "source": [
        "with open('myfile.txt', 'r') as f:\n",
        "    print(f.read())"
      ],
      "metadata": {
        "id": "IUPZoCETBVOP"
      },
      "id": "IUPZoCETBVOP",
      "execution_count": null,
      "outputs": []
    },
    {
      "id": "e7db6317-aaa0-4151-9065-ab114a36349a",
      "cell_type": "markdown",
      "source": [
        "このコードは、先ほどアップロードした`myfile.txt`という名前のファイルを開き、その内容を読み取り、結果を表示します。\n",
        "\n",
        "注：今回ファイルは一時的な環境にアップロードされたため、**このノートブックを閉じたり長い時間操作しないでいるとランタイムとの接続が切れ、アップロードしたファイルも消失します。**必ずローカルにコピーを残すようにしてください。\n",
        "\n",
        "以上が、Pythonでの基本的なファイルI/Oと、Google ColabでのファイルI/Oの方法です。これらの知識を使って、Pythonプログラムでファイルを効率的に読み書きすることができます。"
      ],
      "metadata": {
        "noteable": {
          "cell_type": "markdown"
        },
        "id": "e7db6317-aaa0-4151-9065-ab114a36349a"
      }
    },
    {
      "cell_type": "markdown",
      "source": [
        "## 演習問題\n",
        "1. ランタイム環境でもGoogle Driveでも良いので、テキストファイル（`exercise1.txt`）を作成し、その中に以下の3行のテキストを書き込んでください（ファイルの書き込み方が分からない場合は、ChatGPTに聞いてみましょう）\n",
        "```\n",
        "Hello, World!\n",
        "Python is fun.\n",
        "Let's learn file IO.\n",
        "```\n",
        "\n",
        "2. 問題1で作成したファイルを開き、その内容を読み取り、表示してください。\n",
        "3. 問題1で作成したファイルの末尾に以下のテキストを追加してください。\n",
        "```\n",
        "This is the end of the file.\n",
        "```\n",
        "その後、ファイルの内容を再度読み取り、表示してください。"
      ],
      "metadata": {
        "id": "0bP-uOjuAdjE"
      },
      "id": "0bP-uOjuAdjE"
    },
    {
      "cell_type": "code",
      "source": [
        "# 演習問題\n",
        "# 以下にコードを書いてみましょう"
      ],
      "metadata": {
        "id": "LK-OKyvoB-Se"
      },
      "id": "LK-OKyvoB-Se",
      "execution_count": null,
      "outputs": []
    }
  ]
}