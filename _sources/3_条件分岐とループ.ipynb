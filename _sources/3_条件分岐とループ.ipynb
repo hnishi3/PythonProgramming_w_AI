{
  "cells": [
    {
      "cell_type": "markdown",
      "source": [
        "# レッスン3：制御フロー - 条件分岐とループ\n",
        "\n",
        "このレッスンでは、Pythonの制御フローについて学びます。制御フローは、プログラムの実行フローを制御するための構造です。これには、条件分岐（`if`、`elif`、`else`）とループ（`for`、`while`）が含まれます。\n",
        "\n",
        "## 目次\n",
        "\n",
        "1. 条件分岐\n",
        "2. ループ\n",
        "3. 演習問題"
      ],
      "metadata": {
        "noteable": {
          "cell_type": "markdown"
        },
        "id": "2c2a46b6-782d-41ae-9ed2-a2f16ee6aeed"
      },
      "id": "2c2a46b6-782d-41ae-9ed2-a2f16ee6aeed"
    },
    {
      "cell_type": "markdown",
      "source": [
        "## 1. 条件分岐\n",
        "\n",
        "Pythonの`if`、`elif`、`else`キーワードを使用して、条件に基づいて異なるコードを実行することができます。これを条件分岐と呼びます。"
      ],
      "metadata": {
        "noteable": {
          "cell_type": "markdown"
        },
        "id": "bc381678-590a-4a26-a75f-bbafa90e4891"
      },
      "id": "bc381678-590a-4a26-a75f-bbafa90e4891"
    },
    {
      "cell_type": "code",
      "source": [
        "x = 10\n",
        "\n",
        "if x > 0:\n",
        "    print('x is positive')\n",
        "elif x < 0:\n",
        "    print('x is negative')\n",
        "else:\n",
        "    print('x is zero')"
      ],
      "outputs": [],
      "execution_count": null,
      "metadata": {
        "noteable": {
          "cell_type": "code"
        },
        "id": "a8127a98-14d9-476a-b882-fabaae4fb6c1"
      },
      "id": "a8127a98-14d9-476a-b882-fabaae4fb6c1"
    },
    {
      "cell_type": "markdown",
      "source": [
        "上記のコードでは、`x`の値に基づいて異なるメッセージを出力しています。`if`文は、その後の条件が真である場合に、インデントされたコードブロックを実行します。`elif`と`else`はオプションで、それぞれ追加の条件やデフォルトでの動作を提供します。\n",
        "\n",
        "この例では、まず`if`で`x`の値が0より大きいかを判定しています。もし0以下だった場合は、`elif`に進み`x`が0未満であるかを判定します。最後に、そのどちらでもない場合には`else`に書かれた処理が実行されます。\n",
        "\n",
        "Pythonではインデントによってコードブロック（コードのまとまり）を表現します。`print`と書かれた行が`if`や`elif`よりも一段右にあることに注意してください。これにより、Pythonインタプリタは各`print`文が`if`や`elif`の下であると解釈します。\n",
        "\n",
        "## 2. ループ\n",
        "\n",
        "Pythonの`for`と`while`ループを使用すると、コードを繰り返し実行することができます。これをループと呼びます。\n"
      ],
      "metadata": {
        "noteable": {
          "cell_type": "markdown"
        },
        "id": "0f966b1d-cba4-4d91-92a8-2fd42f4e5dcb"
      },
      "id": "0f966b1d-cba4-4d91-92a8-2fd42f4e5dcb"
    },
    {
      "cell_type": "markdown",
      "source": [
        "### 2.1 forループ\n",
        "`for`ループは、指定した回数だけ繰り返し処理を行います。以下のコードでは、`range(5)`という部分がその指定を行っています。"
      ],
      "metadata": {
        "id": "Oi5NA2HrxuXj"
      },
      "id": "Oi5NA2HrxuXj"
    },
    {
      "cell_type": "code",
      "source": [
        "# forループ\n",
        "for i in range(5):\n",
        "    print(i)"
      ],
      "outputs": [],
      "execution_count": null,
      "metadata": {
        "noteable": {
          "cell_type": "code"
        },
        "id": "abe735c8-972b-42d7-b63d-564f977c84f7"
      },
      "id": "abe735c8-972b-42d7-b63d-564f977c84f7"
    },
    {
      "cell_type": "markdown",
      "source": [
        "`range(5)`は、0から4までの整数（5つの数値）を生成します。したがって、このforループは5回繰り返されます。\n",
        "`i`はループの各反復で`range(5)`から次の値を取得します。つまり、最初の反復では`i`は0、次の反復では`i`は1、というようになります。\n",
        "`print(i)`は、その時点での`i`の値を出力します。したがって、このコードは0から4までの数を順に出力します。\n",
        "\n",
        "### 2.2 whileループ\n",
        "whileループは、指定した条件が真（True）である限り、処理を繰り返します。以下のコードでは、`x < 5`という部分がその条件を指定しています。"
      ],
      "metadata": {
        "id": "2mLxHCrbxX7x"
      },
      "id": "2mLxHCrbxX7x"
    },
    {
      "cell_type": "code",
      "source": [
        "# whileループ\n",
        "x = 0\n",
        "while x < 5:\n",
        "    print(x)\n",
        "    x += 1"
      ],
      "metadata": {
        "id": "OwBtYcY_xZsi"
      },
      "id": "OwBtYcY_xZsi",
      "execution_count": null,
      "outputs": []
    },
    {
      "cell_type": "markdown",
      "source": [
        "最初に、`x`に0が代入されます。その後、`x < 5`という条件が真である限り（つまり、xが5未満である限り）、ループ内のコードが実行されます。\n",
        "ループ内の`print(x)`は、その時点での`x`の値を出力します。\n",
        "`x += 1`は、`x`の値に1を加える（xの値を1増やす）操作です。これにより、xの値は次第に増えていき、いずれ`x < 5`という条件が偽（False）になります。その時点で、`while`ループは終了します。\n",
        "したがって、このコードも0から4までの数を順に出力します。\n",
        "\n",
        "\n",
        "## 3. 演習問題\n",
        "\n",
        "以下の演習問題を解いてみましょう。\n",
        "\n",
        "1. 与えられた数値が正、負、またはゼロであるかを判断するコードを書いてみましょう。\n",
        "2. 1から10までの数値を出力する`for`ループを書いてみましょう。\n",
        "3. 数値が0になるまで数値を半分にする`while`ループを書いてみましょう。\n",
        "4. 与えられた数値が偶数であるか奇数であるかを判断するコードを書いてみましょう（ヒント：余りは`%`演算子で求められます）"
      ],
      "metadata": {
        "noteable": {
          "cell_type": "markdown"
        },
        "id": "b4323fb4-5730-4cc6-b18a-03d11333f9d2"
      },
      "id": "b4323fb4-5730-4cc6-b18a-03d11333f9d2"
    },
    {
      "cell_type": "code",
      "source": [
        "# 演習問題1\n",
        "# 以下にコードを書いてみましょう"
      ],
      "outputs": [],
      "execution_count": null,
      "metadata": {
        "noteable": {
          "cell_type": "code"
        },
        "id": "bb678783-201b-4419-80bb-ae27807ec1ba"
      },
      "id": "bb678783-201b-4419-80bb-ae27807ec1ba"
    },
    {
      "cell_type": "code",
      "source": [
        "# 演習問題2\n",
        "# 以下にコードを書いてみましょう"
      ],
      "outputs": [],
      "execution_count": null,
      "metadata": {
        "noteable": {
          "cell_type": "code"
        },
        "id": "be480298-15cb-43f1-a75a-fe1ef752b46b"
      },
      "id": "be480298-15cb-43f1-a75a-fe1ef752b46b"
    },
    {
      "cell_type": "code",
      "source": [
        "# 演習問題3\n",
        "# 以下にコードを書いてみましょう"
      ],
      "outputs": [],
      "execution_count": null,
      "metadata": {
        "noteable": {
          "cell_type": "code"
        },
        "id": "f8bb07c0-d1a5-4129-ac0d-84a5f56ab5a4"
      },
      "id": "f8bb07c0-d1a5-4129-ac0d-84a5f56ab5a4"
    },
    {
      "cell_type": "code",
      "source": [
        "# 演習問題4\n",
        "# 以下にコードを書いてみましょう"
      ],
      "outputs": [],
      "execution_count": null,
      "metadata": {
        "noteable": {
          "cell_type": "code"
        },
        "id": "892c264f-46ef-4496-99ae-d90752cb97b6"
      },
      "id": "892c264f-46ef-4496-99ae-d90752cb97b6"
    }
  ],
  "metadata": {
    "noteable-chatgpt": {
      "create_notebook": {
        "openai_conversation_id": "7c4859b2-432a-5736-b3f9-980532e16451",
        "openai_ephemeral_user_id": "eaeaa345-c135-577d-8b93-1ce98f545fc0",
        "openai_subdivision1_iso_code": "JP-04"
      }
    },
    "noteable": {
      "last_delta_id": "00000000-0000-0000-0000-000000000000"
    },
    "nteract": {
      "version": "noteable@2.9.0"
    },
    "colab": {
      "provenance": [],
      "toc_visible": true
    },
    "language_info": {
      "name": "python"
    },
    "kernelspec": {
      "name": "python3",
      "display_name": "Python 3"
    }
  },
  "nbformat": 4,
  "nbformat_minor": 5
}