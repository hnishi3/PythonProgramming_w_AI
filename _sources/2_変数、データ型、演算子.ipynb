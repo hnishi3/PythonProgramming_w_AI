{
  "cells": [
    {
      "cell_type": "markdown",
      "source": [
        "# レッスン2：変数、データ型、演算子\n",
        "\n",
        "このレッスンでは、Pythonの変数、データ型、演算子について学びます。これらの概念は、Pythonプログラミングの基礎となります。\n",
        "\n",
        "## 目次\n",
        "\n",
        "1. 変数\n",
        "2. データ型\n",
        "3. 演算子\n",
        "4. 演習問題"
      ],
      "metadata": {
        "noteable": {
          "cell_type": "markdown"
        },
        "id": "7f442cfd-564c-4e65-bff4-89da711933d1"
      },
      "id": "7f442cfd-564c-4e65-bff4-89da711933d1"
    },
    {
      "cell_type": "markdown",
      "source": [
        "## 1. 変数\n",
        "変数は、値を格納するためのコンテナです。Pythonでは、変数を作成するために特別な宣言は必要ありません。変数名と等号（=）を使用して、変数に値を割り当てることができます。"
      ],
      "metadata": {
        "noteable": {
          "cell_type": "markdown"
        },
        "id": "6b72dff6-2405-41e3-bf09-c0a5751164be"
      },
      "id": "6b72dff6-2405-41e3-bf09-c0a5751164be"
    },
    {
      "cell_type": "code",
      "source": [
        "message = 'Hello, Python!'\n",
        "print(message)"
      ],
      "outputs": [
        {
          "output_type": "stream",
          "name": "stdout",
          "text": [
            "Hello, Python!\n"
          ]
        }
      ],
      "execution_count": null,
      "metadata": {
        "noteable": {
          "cell_type": "code"
        },
        "ExecuteTime": {
          "end_time": "2023-06-13T02:16:30.828941+00:00",
          "start_time": "2023-06-13T02:16:30.671848+00:00"
        },
        "id": "60fb03f3-ec3b-4947-9603-66209180676e",
        "outputId": "65170fcd-65ec-4c20-96e8-01febe4fd0fe"
      },
      "id": "60fb03f3-ec3b-4947-9603-66209180676e"
    },
    {
      "cell_type": "markdown",
      "source": [
        "上記のコードでは、`message`という名前の変数を作成し、その変数に文字列`'Hello, Python!'`を割り当てています。次に、`print`関数を使用してその変数の値を出力しています。\n",
        "\n",
        "## 2. データ型\n",
        "\n",
        "Pythonには、さまざまな種類のデータを扱うためのいくつかの基本的なデータ型があります。これらには、整数（`int`）、浮動小数点数（`float`）、文字列（`str`）、ブール値（`bool`）などが含まれます。"
      ],
      "metadata": {
        "noteable": {
          "cell_type": "markdown"
        },
        "id": "b10f61d4-7b2d-4264-80ad-b39735c19573"
      },
      "id": "b10f61d4-7b2d-4264-80ad-b39735c19573"
    },
    {
      "cell_type": "code",
      "source": [
        "integer = 10  # 整数\n",
        "floating_point = 20.5  # 浮動小数点数\n",
        "string = 'Hello, Python!'  # 文字列\n",
        "boolean = True  # ブール値（真または偽）\n",
        "\n",
        "print(type(integer))\n",
        "print(type(floating_point))\n",
        "print(type(string))\n",
        "print(type(boolean))"
      ],
      "outputs": [],
      "execution_count": null,
      "metadata": {
        "noteable": {
          "cell_type": "code"
        },
        "id": "d5638223-420a-468f-9661-a4cff88e6cc6"
      },
      "id": "d5638223-420a-468f-9661-a4cff88e6cc6"
    },
    {
      "cell_type": "markdown",
      "source": [
        "上記のコードでは、異なるデータ型の変数を作成し、それぞれの変数のデータ型を`type`関数を使用して出力しています。\n",
        "\n",
        "## 3. 演算子\n",
        "\n",
        "Pythonには、算術演算子、比較演算子、論理演算子など、さまざまな種類の演算子があります。これらの演算子は、数値や文字列、ブール値などのデータを操作するために使用されます。"
      ],
      "metadata": {
        "noteable": {
          "cell_type": "markdown"
        },
        "id": "e77b028b-1db4-433b-840f-12af9aeb10fc"
      },
      "id": "e77b028b-1db4-433b-840f-12af9aeb10fc"
    },
    {
      "cell_type": "code",
      "source": [
        "# 算術演算子\n",
        "print('Addition:', 5 + 3)\n",
        "print('Subtraction:', 5 - 3)\n",
        "print('Multiplication:', 5 * 3)\n",
        "print('Division:', 5 / 3)\n",
        "print('Floor Division:', 5 // 3) # 割り算の商\n",
        "print('Modulus:', 5 % 3) # 割り算の余り\n",
        "print('Exponent:', 5 ** 3) # 指数(5の3乗)\n",
        "\n",
        "# 比較演算子\n",
        "print('Equal:', 5 == 3) # 5と3は等しいかを==演算子で判断\n",
        "print('Not Equal:', 5 != 3) # != で等しくない（≠）を表現\n",
        "print('Greater Than:', 5 > 3)\n",
        "print('Less Than:', 5 < 3)\n",
        "print('Greater Than or Equal To:', 5 >= 3)\n",
        "print('Less Than or Equal To:', 5 <= 3)\n",
        "\n",
        "# 論理演算子\n",
        "print('Logical AND:', True and False)\n",
        "print('Logical OR:', True or False)\n",
        "print('Logical NOT:', not True)"
      ],
      "outputs": [
        {
          "output_type": "stream",
          "name": "stdout",
          "text": [
            "Addition: 8\n",
            "Subtraction: 2\n",
            "Multiplication: 15\n",
            "Division: 1.6666666666666667\n",
            "Floor Division: 1\n",
            "Modulus: 2\n",
            "Exponent: 125\n",
            "Equal: False\n",
            "Not Equal: True\n",
            "Greater Than: True\n",
            "Less Than: False\n",
            "Greater Than or Equal To: True\n",
            "Less Than or Equal To: False\n",
            "Logical AND: False\n",
            "Logical OR: True\n",
            "Logical NOT: False\n"
          ]
        }
      ],
      "execution_count": null,
      "metadata": {
        "noteable": {
          "cell_type": "code"
        },
        "colab": {
          "base_uri": "https://localhost:8080/"
        },
        "id": "0a6ecb3b-e726-4bee-8ab2-3de6d6609425",
        "outputId": "182ec078-cd0c-4229-efc4-17afd0bfa03a"
      },
      "id": "0a6ecb3b-e726-4bee-8ab2-3de6d6609425"
    },
    {
      "cell_type": "markdown",
      "source": [
        "上記のコードでは、Pythonのさまざまな演算子を使用している例を示しています。\n",
        "\n",
        "## 4. 演習問題\n",
        "\n",
        "以下の演習問題を解いてみましょう。\n",
        "\n",
        "1. 'Python'という文字列を格納する変数を作成し、その変数を出力するコードを書いてみましょう。\n",
        "2. 7と3を掛けた結果を出力するコードを書いてみましょう。\n",
        "3. 7が3より大きいかどうかを判断するコードを書いてみましょう。\n",
        "4. TrueとFalseの論理積（logical AND）の結果を出力するコードを書いてみましょう。"
      ],
      "metadata": {
        "noteable": {
          "cell_type": "markdown"
        },
        "id": "e7d6891c-5b0e-42dd-bbc2-8de61ef842d6"
      },
      "id": "e7d6891c-5b0e-42dd-bbc2-8de61ef842d6"
    },
    {
      "cell_type": "code",
      "source": [
        "# 演習問題1\n",
        "# 以下にコードを書いてみましょう"
      ],
      "outputs": [],
      "execution_count": null,
      "metadata": {
        "noteable": {
          "cell_type": "code"
        },
        "id": "02eaa1b6-28ad-4d8b-a3b6-da85ef5b648a"
      },
      "id": "02eaa1b6-28ad-4d8b-a3b6-da85ef5b648a"
    },
    {
      "cell_type": "code",
      "source": [
        "# 演習問題2\n",
        "# 以下にコードを書いてみましょう"
      ],
      "outputs": [],
      "execution_count": null,
      "metadata": {
        "noteable": {
          "cell_type": "code"
        },
        "id": "111b722d-1dcb-46fb-b44a-ffa2405cdafd"
      },
      "id": "111b722d-1dcb-46fb-b44a-ffa2405cdafd"
    },
    {
      "cell_type": "code",
      "source": [
        "# 演習問題3\n",
        "# 以下にコードを書いてみましょう"
      ],
      "outputs": [],
      "execution_count": null,
      "metadata": {
        "noteable": {
          "cell_type": "code"
        },
        "id": "5593cd29-253d-4a1e-bebb-3e1950725ee4"
      },
      "id": "5593cd29-253d-4a1e-bebb-3e1950725ee4"
    },
    {
      "cell_type": "code",
      "source": [
        "# 演習問題4\n",
        "# 以下にコードを書いてみましょう"
      ],
      "outputs": [],
      "execution_count": null,
      "metadata": {
        "noteable": {
          "cell_type": "code"
        },
        "id": "7f397cea-6249-4256-a2fd-160049ffb483"
      },
      "id": "7f397cea-6249-4256-a2fd-160049ffb483"
    }
  ],
  "metadata": {
    "noteable-chatgpt": {
      "create_notebook": {
        "openai_conversation_id": "7c4859b2-432a-5736-b3f9-980532e16451",
        "openai_ephemeral_user_id": "eaeaa345-c135-577d-8b93-1ce98f545fc0",
        "openai_subdivision1_iso_code": "JP-04"
      }
    },
    "noteable": {
      "last_transaction_id": "c9ba6ccb-3e83-4532-a4f8-400891652ce8",
      "last_delta_id": "e544bf81-f1a8-4f3a-bf50-c6b23fc69e26"
    },
    "selected_hardware_size": "small",
    "nteract": {
      "version": "noteable@2.9.0"
    },
    "colab": {
      "provenance": [],
      "toc_visible": true
    },
    "language_info": {
      "name": "python"
    },
    "kernelspec": {
      "name": "python3",
      "display_name": "Python 3"
    }
  },
  "nbformat": 4,
  "nbformat_minor": 5
}