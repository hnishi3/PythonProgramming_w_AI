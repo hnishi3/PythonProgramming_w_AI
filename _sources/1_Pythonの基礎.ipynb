{
  "cells": [
    {
      "cell_type": "markdown",
      "source": [
        "# レッスン1：Pythonと基本的な構文の紹介\n",
        "\n",
        "このレッスンでは、Pythonプログラミング言語とその基本的な構文について学びます。Pythonは、そのシンプルさと読みやすさから、初心者にとって学びやすいプログラミング言語として広く認識されています。\n",
        "\n",
        "## 目次\n",
        "\n",
        "1. Pythonとは\n",
        "2. Pythonのインストール\n",
        "3. Pythonの基本的な構文\n",
        "4. コメント\n",
        "5. 数値と文字列\n",
        "6. 演習問題"
      ],
      "metadata": {
        "noteable": {
          "cell_type": "markdown"
        },
        "id": "ca5ff024"
      },
      "id": "ca5ff024"
    },
    {
      "cell_type": "markdown",
      "source": [
        "## 1. Pythonとは\n",
        "Pythonは、Web開発、データ分析、機械学習、AI、自動化など、様々な用途で使用されています。また、Pythonはオープンソースであり、世界中の開発者からの貢献を受けています。これにより、Pythonのライブラリとフレームワークは日々拡大し続けています。\n"
      ],
      "metadata": {
        "noteable": {
          "cell_type": "markdown"
        },
        "id": "ee9373be-79e3-4efc-847b-323b59a139c7"
      },
      "id": "ee9373be-79e3-4efc-847b-323b59a139c7"
    },
    {
      "cell_type": "markdown",
      "source": [
        "## 2. Pythonのインストール\n",
        "\n",
        "Pythonを使用するには、まずPythonをコンピュータにインストールする必要があります。Pythonの公式ウェブサイトから最新版のPythonをダウンロードしてインストールすることができます。\n",
        "\n",
        "しかし、このコースでは、Pythonのコードを実行するためにGoogle Colabというオンラインプラットフォームを使用します。Google Colabでは、Pythonが既にインストールされているため、Pythonを自分のコンピュータにインストールする必要はありません。"
      ],
      "metadata": {
        "id": "VuocVhcYWQI3"
      },
      "id": "VuocVhcYWQI3"
    },
    {
      "cell_type": "markdown",
      "source": [
        "\n",
        "## 3. Pythonの基本的な構文\n",
        "\n",
        "Pythonの基本的な構文を学ぶために、最もシンプルなPythonのプログラムである「Hello, World!」プログラムを見てみましょう。"
      ],
      "metadata": {
        "id": "uV-u7W1YWP7D"
      },
      "id": "uV-u7W1YWP7D"
    },
    {
      "cell_type": "code",
      "source": [
        "print('Hello, World!')"
      ],
      "outputs": [],
      "execution_count": null,
      "metadata": {
        "noteable": {
          "cell_type": "python"
        },
        "id": "ee8b749b-2e7b-48f6-a054-97256e5c52dc"
      },
      "id": "ee8b749b-2e7b-48f6-a054-97256e5c52dc"
    },
    {
      "cell_type": "markdown",
      "source": [
        "上記のコードは、Pythonの`print`関数を使用して「Hello, World!」というメッセージを出力します。`print`関数は、引数として与えられた値をコンソールに出力するPythonの組み込み関数です。\n",
        "\n",
        "## 4. コメント\n",
        "\n",
        "Pythonでは、`#`記号を使用してコメントを書くことができます。コメントは、コードの理解を助けるためのメモであり、Pythonインタープリタによって無視されます。"
      ],
      "metadata": {
        "noteable": {
          "cell_type": "markdown"
        },
        "id": "8c45da5d-85bf-462a-abb5-263f14953fb3"
      },
      "id": "8c45da5d-85bf-462a-abb5-263f14953fb3"
    },
    {
      "cell_type": "code",
      "source": [
        "# これはコメントです\n",
        "print('Hello, World!')  # この行の後ろのコメントも無視されます"
      ],
      "outputs": [],
      "execution_count": null,
      "metadata": {
        "noteable": {
          "cell_type": "python"
        },
        "id": "5ecfeb16-1478-441e-9a53-8e63184bd1af"
      },
      "id": "5ecfeb16-1478-441e-9a53-8e63184bd1af"
    },
    {
      "cell_type": "markdown",
      "source": [
        "上記のコードでは、最初の行全体がコメントとして扱われ、無視されます。また、2行目では、`#`記号の後ろの部分がコメントとして扱われ、無視されます。\n",
        "\n",
        "## 5. 数値と文字列\n",
        "\n",
        "Pythonでは、数値と文字列を扱うことができます。数値は、計算に使用され、文字列はテキストデータを表現します。文字列はシングルクォート('')またはダブルクォート(\"\")で囲む必要があります。"
      ],
      "metadata": {
        "noteable": {
          "cell_type": "markdown"
        },
        "id": "4cfe9b72-a275-4343-bbc9-2f89e1159d35"
      },
      "id": "4cfe9b72-a275-4343-bbc9-2f89e1159d35"
    },
    {
      "cell_type": "code",
      "source": [
        "print(3 + 4)  # 数値の計算\n",
        "print('Hello, ' + 'World!')  # 文字列の連結"
      ],
      "outputs": [
        {
          "output_type": "stream",
          "name": "stdout",
          "text": [
            "7\n",
            "Hello, World!\n"
          ]
        }
      ],
      "execution_count": null,
      "metadata": {
        "noteable": {
          "cell_type": "python"
        },
        "id": "df7e3e1e-6366-427e-8f6f-2cbd3518c07d",
        "outputId": "2690aaf0-73f9-4072-f565-b2cf7495b1ba",
        "colab": {
          "base_uri": "https://localhost:8080/"
        }
      },
      "id": "df7e3e1e-6366-427e-8f6f-2cbd3518c07d"
    },
    {
      "cell_type": "markdown",
      "source": [
        "上記のコードでは、最初の行では数値の加算を行い、次の行では文字列の連結を行っています。\n",
        "\n",
        "## 6. 演習問題\n",
        "\n",
        "以下の演習問題を解いてみましょう。\n",
        "\n",
        "1. 「Hello, Python!」というメッセージを出力するコードを書いてみましょう。\n",
        "2. 7と3を足した結果を出力するコードを書いてみましょう。\n",
        "3. 'Python'と'Programming'を連結して出力するコードを書いてみましょう。\n",
        "4. 以下のコードにコメントを追加してみましょう。\n",
        "   ```python\n",
        "   print('Python is fun!')\n",
        "   ```"
      ],
      "metadata": {
        "noteable": {
          "cell_type": "markdown"
        },
        "id": "05c63dda-345c-4d1c-8375-5dcb565079f5"
      },
      "id": "05c63dda-345c-4d1c-8375-5dcb565079f5"
    },
    {
      "cell_type": "code",
      "source": [
        "# 演習問題1\n",
        "# 以下にコードを書いてみましょう"
      ],
      "outputs": [],
      "execution_count": null,
      "metadata": {
        "noteable": {
          "cell_type": "python"
        },
        "id": "ce95621d-142b-47c4-beac-89395b7f3dbd"
      },
      "id": "ce95621d-142b-47c4-beac-89395b7f3dbd"
    },
    {
      "cell_type": "code",
      "source": [
        "# 演習問題2\n",
        "# 以下にコードを書いてみましょう"
      ],
      "outputs": [],
      "execution_count": null,
      "metadata": {
        "jupyter": {
          "outputs_hidden": false,
          "source_hidden": false
        },
        "noteable": {
          "cell_type": "code"
        },
        "id": "2bd0e800-67fa-4850-82ae-8c73295aca23"
      },
      "id": "2bd0e800-67fa-4850-82ae-8c73295aca23"
    },
    {
      "cell_type": "code",
      "source": [
        "# 演習問題3\n",
        "# 以下にコードを書いてみましょう"
      ],
      "outputs": [],
      "execution_count": null,
      "metadata": {
        "jupyter": {
          "outputs_hidden": false,
          "source_hidden": false
        },
        "noteable": {
          "cell_type": "code"
        },
        "id": "cfb52ffa-fc91-4acd-81a2-a523789d0ea9"
      },
      "id": "cfb52ffa-fc91-4acd-81a2-a523789d0ea9"
    },
    {
      "cell_type": "code",
      "source": [
        "# 演習問題4\n",
        "# 以下にコードを書いてみましょう\n",
        "print('Python is fun!')  # ここにコメントを追加"
      ],
      "outputs": [],
      "execution_count": null,
      "metadata": {
        "jupyter": {
          "outputs_hidden": false,
          "source_hidden": false
        },
        "noteable": {
          "cell_type": "code"
        },
        "id": "c82e75ea-56e8-40d6-b904-726a1e372024"
      },
      "id": "c82e75ea-56e8-40d6-b904-726a1e372024"
    }
  ],
  "metadata": {
    "selected_hardware_size": "small",
    "noteable": {
      "last_transaction_id": "56ec1218-f0f5-42b8-919d-a25dcdcd193d",
      "last_delta_id": "56ec1218-f0f5-42b8-919d-a25dcdcd193d"
    },
    "nteract": {
      "version": "noteable@2.9.0"
    },
    "colab": {
      "provenance": [],
      "toc_visible": true
    },
    "language_info": {
      "name": "python"
    },
    "kernelspec": {
      "name": "python3",
      "display_name": "Python 3"
    }
  },
  "nbformat": 4,
  "nbformat_minor": 5
}