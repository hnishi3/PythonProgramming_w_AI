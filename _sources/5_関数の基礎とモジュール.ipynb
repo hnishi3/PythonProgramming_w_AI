{
  "cells": [
    {
      "cell_type": "markdown",
      "source": [
        "# レッスン5：関数の基礎とモジュール\n",
        "\n",
        "このレッスンでは、Pythonの関数とモジュールについて学びます。関数は、特定のタスクを実行するためのコードのまとまりで、モジュールは、関数や変数、クラスなどを含むPythonファイルです。\n",
        "\n",
        "## 目次\n",
        "\n",
        "1. 関数\n",
        "2. モジュール\n",
        "3. 演習問題"
      ],
      "metadata": {
        "noteable": {
          "cell_type": "markdown"
        },
        "id": "5a7d652c-ec84-4e33-b20f-0e523e07bde6"
      },
      "id": "5a7d652c-ec84-4e33-b20f-0e523e07bde6"
    },
    {
      "cell_type": "markdown",
      "source": [
        "## 1. 関数\n",
        "\n",
        "関数は、特定のタスクを実行するためのコードのまとまりです。関数は、`def`キーワードを使用して定義され、`()`内にパラメータを取ります。関数は、`return`キーワードを使用して値を返すことができます。"
      ],
      "metadata": {
        "noteable": {
          "cell_type": "markdown"
        },
        "id": "1387ab8c-1011-4cfe-af57-f0c3c0b13629"
      },
      "id": "1387ab8c-1011-4cfe-af57-f0c3c0b13629"
    },
    {
      "cell_type": "code",
      "source": [
        "def greet(name):\n",
        "    return 'Hello, ' + name + '!'\n",
        "\n",
        "print(greet('Python'))"
      ],
      "outputs": [],
      "execution_count": null,
      "metadata": {
        "noteable": {
          "cell_type": "code"
        },
        "id": "9c40e3f2-3628-437c-95af-dab49f9a0a0f"
      },
      "id": "9c40e3f2-3628-437c-95af-dab49f9a0a0f"
    },
    {
      "cell_type": "markdown",
      "source": [
        "上記のコードでは、`greet`という名前の関数を定義し、その関数を呼び出しています。この関数は、引数として名前を取り、挨拶メッセージを返します。\n",
        "\n",
        "## 2. モジュール\n",
        "\n",
        "モジュールは、関数や変数、クラスなどを含むPythonファイルです。モジュールを使用すると、コードを再利用しやすく、整理しやすくなります。Pythonには、標準ライブラリとして多くのモジュールが付属しています。また、他の人が作成したモジュールをインストールして使用することもできます。"
      ],
      "metadata": {
        "noteable": {
          "cell_type": "markdown"
        },
        "id": "ac03ad99-3d94-4bc3-93ea-66952baaeba4"
      },
      "id": "ac03ad99-3d94-4bc3-93ea-66952baaeba4"
    },
    {
      "cell_type": "code",
      "source": [
        "import math\n",
        "\n",
        "print(math.pi)\n",
        "print(math.sqrt(16))"
      ],
      "outputs": [],
      "execution_count": null,
      "metadata": {
        "noteable": {
          "cell_type": "code"
        },
        "id": "d8db8217-bcff-4c88-a6e2-c0927a656ba0"
      },
      "id": "d8db8217-bcff-4c88-a6e2-c0927a656ba0"
    },
    {
      "cell_type": "markdown",
      "source": [
        "上記のコードでは、`math`モジュールをインポートし`pi`変数の中身を表示し、`sqrt`関数を利用して平方根の計算を行っています。\n",
        "\n",
        "* `import math`：この行は、Pythonの`math`モジュールをインポート（読み込み）しています。mathモジュールは、数学的な関数や定数を提供するPythonの標準ライブラリの一部です。この行により、`math`モジュール内の関数や定数をコードで使用できるようになります。\n",
        "* `print(math.pi)`：この行は、`math`モジュールの`pi`という定数を出力しています。`pi`は円周率を表す定数で、約3.14159の値を持ちます。`math.pi`とすることで、この`pi`定数を参照できます。\n",
        "* `print(math.sqrt(16))`：この行は、`math`モジュールの`sqrt`関数を使用して、16の平方根を計算し、その結果を出力しています。`sqrt`関数は、引数として与えられた数値の平方根を計算します。この場合、16の平方根（つまり、4）が計算され、出力されます。\n",
        "\n",
        "## 3. 演習問題\n",
        "\n",
        "以下の演習問題を解いてみましょう。\n",
        "\n",
        "1. 与えられた数値の平方根を返す関数を作成してみましょう。\n",
        "2. `math`モジュールの`sin`関数を使用して、0、π/2、πの時のsin関数の値を出力するコードを書いてみましょう。\n",
        "3. `random`モジュールの`randint`関数を使用して、1から10までのランダムな整数を出力するコードを書いてみましょう（`randint`の使い方はGoogle検索で調べたり、ChatGPTに聞いてみましょう）"
      ],
      "metadata": {
        "noteable": {
          "cell_type": "markdown"
        },
        "id": "388f9f14-596c-416b-830b-27e495474a0d"
      },
      "id": "388f9f14-596c-416b-830b-27e495474a0d"
    },
    {
      "cell_type": "code",
      "source": [
        "# 演習問題1\n",
        "# 以下にコードを書いてみましょう"
      ],
      "outputs": [],
      "execution_count": null,
      "metadata": {
        "noteable": {
          "cell_type": "code"
        },
        "id": "f4113889-f42b-411b-8942-4f1b5c3b526c"
      },
      "id": "f4113889-f42b-411b-8942-4f1b5c3b526c"
    },
    {
      "cell_type": "code",
      "source": [
        "# 演習問題2\n",
        "# 以下にコードを書いてみましょう"
      ],
      "outputs": [],
      "execution_count": null,
      "metadata": {
        "noteable": {
          "cell_type": "code"
        },
        "id": "b0e7fac4-d3bf-4b58-9158-d9c8c71535b5"
      },
      "id": "b0e7fac4-d3bf-4b58-9158-d9c8c71535b5"
    },
    {
      "cell_type": "code",
      "source": [
        "# 演習問題3\n",
        "# 以下にコードを書いてみましょう"
      ],
      "outputs": [],
      "execution_count": null,
      "metadata": {
        "noteable": {
          "cell_type": "code"
        },
        "id": "c9dd074c-4a49-4463-8ce3-6a025e33f5ac"
      },
      "id": "c9dd074c-4a49-4463-8ce3-6a025e33f5ac"
    }
  ],
  "metadata": {
    "noteable-chatgpt": {
      "create_notebook": {
        "openai_conversation_id": "7c4859b2-432a-5736-b3f9-980532e16451",
        "openai_ephemeral_user_id": "eaeaa345-c135-577d-8b93-1ce98f545fc0",
        "openai_subdivision1_iso_code": "JP-04"
      }
    },
    "noteable": {
      "last_delta_id": "00000000-0000-0000-0000-000000000000"
    },
    "nteract": {
      "version": "noteable@2.9.0"
    },
    "colab": {
      "provenance": [],
      "toc_visible": true
    }
  },
  "nbformat": 4,
  "nbformat_minor": 5
}