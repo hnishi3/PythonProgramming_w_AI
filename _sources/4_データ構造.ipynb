{
  "cells": [
    {
      "cell_type": "markdown",
      "source": [
        "# レッスン4：データ構造\n",
        "\n",
        "このレッスンでは、Pythonの主要なデータ構造について学びます。これには、リスト、タプル、セット、辞書が含まれます。\n",
        "\n",
        "## 目次\n",
        "\n",
        "1. リスト\n",
        "2. タプル\n",
        "3. セット\n",
        "4. 辞書\n",
        "5. 演習問題"
      ],
      "metadata": {
        "noteable": {
          "cell_type": "markdown"
        },
        "id": "30fae64d-9861-4eed-bde4-48d9e8327611"
      },
      "id": "30fae64d-9861-4eed-bde4-48d9e8327611"
    },
    {
      "cell_type": "markdown",
      "source": [
        "## 1. リスト\n",
        "\n",
        "リストは、順序付けられた要素の集まりです。つまり、リストの中にある要素は、特定の順序で並んでいます。リストは角括弧（`[]`）を使って作成します。リストの中には、どんな種類のデータでも入れることができます。例えば、数値、文字列、真偽値（`True`や`False`）などです。また、リストの中に別のリストを入れることもできます。"
      ],
      "metadata": {
        "noteable": {
          "cell_type": "markdown"
        },
        "id": "93f7d456-011f-48cd-999d-afd3ef814263"
      },
      "id": "93f7d456-011f-48cd-999d-afd3ef814263"
    },
    {
      "cell_type": "code",
      "source": [
        "my_list = [1, 'hello', 3.14, True]\n",
        "print(my_list)"
      ],
      "outputs": [
        {
          "output_type": "stream",
          "name": "stdout",
          "text": [
            "[1, 'hello', 3.14, True]\n"
          ]
        }
      ],
      "execution_count": null,
      "metadata": {
        "noteable": {
          "cell_type": "code"
        },
        "ExecuteTime": {
          "end_time": "2023-06-11T15:48:12.420577+00:00",
          "start_time": "2023-06-11T15:48:12.263044+00:00"
        },
        "id": "ce1896aa-172a-4afe-967a-ba3cc8930794",
        "outputId": "03541e29-c8e5-4723-c9d9-617bcadce0f8"
      },
      "id": "ce1896aa-172a-4afe-967a-ba3cc8930794"
    },
    {
      "cell_type": "markdown",
      "source": [
        "上記のコードでは、異なる型の要素を持つリストを作成し、そのリストを出力しています。\n",
        "\n",
        "## 2. タプル\n",
        "\n",
        "タプルもリストと同じく、順序付けられた要素の集まりです。しかし、タプルは一度作成するとその内容を変更することができません。このような性質を「不変（immutable）」と言います。タプルは丸括弧（`()`）を使って作成します。"
      ],
      "metadata": {
        "noteable": {
          "cell_type": "markdown"
        },
        "id": "f9fc411a-ac7b-42ba-a13b-9909745f1a93"
      },
      "id": "f9fc411a-ac7b-42ba-a13b-9909745f1a93"
    },
    {
      "cell_type": "code",
      "source": [
        "my_tuple = (1, 'hello', 3.14, True)\n",
        "print(my_tuple)"
      ],
      "outputs": [
        {
          "output_type": "stream",
          "name": "stdout",
          "text": [
            "(1, 'hello', 3.14, True)\n"
          ]
        }
      ],
      "execution_count": null,
      "metadata": {
        "noteable": {
          "cell_type": "code"
        },
        "ExecuteTime": {
          "end_time": "2023-06-11T15:49:03.115945+00:00",
          "start_time": "2023-06-11T15:49:02.959045+00:00"
        },
        "id": "c8e8f333-0d7e-43df-9795-505191c29e6c",
        "outputId": "bd4ae4e9-dc07-4dae-a592-d749ba40a6a1"
      },
      "id": "c8e8f333-0d7e-43df-9795-505191c29e6c"
    },
    {
      "cell_type": "markdown",
      "source": [
        "上記のコードでは、異なる型の要素を持つタプルを作成し、そのタプルを出力しています。\n",
        "\n",
        "## 3. セット\n",
        "\n",
        "セットは、順序付けられていない要素の集まりで、各要素は一意（重複しない）です。セットは中括弧（`{}`）を使って作成します。ただし、セットは順序付けられていないため、要素の順序は予測できません。"
      ],
      "metadata": {
        "noteable": {
          "cell_type": "markdown"
        },
        "id": "930275c2-416f-42eb-9e2b-7836413138aa"
      },
      "id": "930275c2-416f-42eb-9e2b-7836413138aa"
    },
    {
      "cell_type": "code",
      "source": [
        "my_set = {1, 'hello', 3.14}\n",
        "print(my_set)"
      ],
      "outputs": [
        {
          "output_type": "stream",
          "name": "stdout",
          "text": [
            "{'hello', 1, 3.14}\n"
          ]
        }
      ],
      "execution_count": null,
      "metadata": {
        "noteable": {
          "cell_type": "code"
        },
        "ExecuteTime": {
          "end_time": "2023-06-11T15:49:51.328536+00:00",
          "start_time": "2023-06-11T15:49:51.172479+00:00"
        },
        "id": "b547eda9-28dc-4d09-add6-12cddf4c1079",
        "outputId": "9d2facb7-c481-4f4f-c3c2-2c29e6532717"
      },
      "id": "b547eda9-28dc-4d09-add6-12cddf4c1079"
    },
    {
      "cell_type": "markdown",
      "source": [
        "上記のコードでは、異なる型の要素を持つセットを作成し、そのセットを出力しています。セットは順序付けられていないため、要素の順序は予測できず、実行する度に順序が変化します。\n",
        "\n",
        "## 4. 辞書\n",
        "\n",
        "辞書は、キーと値のペアの集まりです。辞書は中括弧（`{}`）を使って作成しますが、各要素はキーと値のペア（`key: value`）となります。キーは辞書内で一意でなければならず、各キーには値が関連付けられています。"
      ],
      "metadata": {
        "noteable": {
          "cell_type": "markdown"
        },
        "id": "2fd595b6-d092-4ff5-b6ad-15db68e741f2"
      },
      "id": "2fd595b6-d092-4ff5-b6ad-15db68e741f2"
    },
    {
      "cell_type": "code",
      "source": [
        "my_dict = {'name': 'Alice', 'age': 20, 'city': 'Tokyo'}\n",
        "print(my_dict)"
      ],
      "outputs": [
        {
          "output_type": "stream",
          "name": "stdout",
          "text": [
            "{'name': 'Alice', 'age': 20, 'city': 'Tokyo'}\n"
          ]
        }
      ],
      "execution_count": null,
      "metadata": {
        "noteable": {
          "cell_type": "code"
        },
        "ExecuteTime": {
          "end_time": "2023-06-11T15:50:45.089203+00:00",
          "start_time": "2023-06-11T15:50:44.933336+00:00"
        },
        "id": "745951c7-aa56-4e93-b29e-79caaf32ae1e",
        "outputId": "de3eb1a0-7185-4bbe-c987-a6cb3510a6ca"
      },
      "id": "745951c7-aa56-4e93-b29e-79caaf32ae1e"
    },
    {
      "cell_type": "markdown",
      "source": [
        "このコードでは、3つのキー（`'name'`、`'age'`、`'city'`）とそれぞれのキーに関連付けられた値（`'Alice'`、`20`、`'Tokyo'`）を含む辞書を作成し、その辞書を出力しています。\n",
        "\n",
        "## 5. 演習問題\n",
        "\n",
        "以下の演習問題を解いてみましょう。\n",
        "\n",
        "1. 1から10までの整数を要素に持つリストを作成してみましょう。\n",
        "2. 上記のリストに新しい要素を追加してみましょう（やり方をChatGPTに聞いてみましょう）\n",
        "3. 上記のリストの要素を逆順にしてみましょう（やり方をChatGPTに聞いてみましょう）\n",
        "4. 1から10までの整数を要素に持つタプルを作成してみましょう。\n",
        "5. 上記のタプルの要素を逆順にすることは可能ですか？可能/不可能の理由を説明してみましょう。\n",
        "6. 1から10までの整数を要素に持つセットを作成してみましょう。\n",
        "7. 上記のセットに新しい要素を追加してみましょう（やり方をChatGPTに聞いてみましょう）\n",
        "8. 1から10までの整数をキーに、その平方を値に持つ辞書を作成してみましょう（`for`や`while`を使うと便利です）"
      ],
      "metadata": {
        "noteable": {
          "cell_type": "markdown"
        },
        "id": "a9ad4c82-508b-4362-af1a-c6cedeffbabd"
      },
      "id": "a9ad4c82-508b-4362-af1a-c6cedeffbabd"
    },
    {
      "cell_type": "code",
      "source": [
        "# 演習問題\n",
        "# 以下にコードを書いてみましょう"
      ],
      "outputs": [],
      "execution_count": null,
      "metadata": {
        "jupyter": {
          "source_hidden": false,
          "outputs_hidden": false
        },
        "noteable": {
          "cell_type": "python"
        },
        "id": "554a2d72-57b9-4830-b8fd-3ee1c59e2044"
      },
      "id": "554a2d72-57b9-4830-b8fd-3ee1c59e2044"
    }
  ],
  "metadata": {
    "noteable-chatgpt": {
      "create_notebook": {
        "openai_conversation_id": "7c4859b2-432a-5736-b3f9-980532e16451",
        "openai_ephemeral_user_id": "eaeaa345-c135-577d-8b93-1ce98f545fc0",
        "openai_subdivision1_iso_code": "JP-04"
      }
    },
    "noteable": {
      "last_delta_id": "ed2e99eb-03a5-46a2-a492-0a5325d9ae9a"
    },
    "selected_hardware_size": "small",
    "nteract": {
      "version": "noteable@2.9.0"
    },
    "colab": {
      "provenance": [],
      "toc_visible": true
    }
  },
  "nbformat": 4,
  "nbformat_minor": 5
}