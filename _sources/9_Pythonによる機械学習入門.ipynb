{
  "cells": [
    {
      "cell_type": "markdown",
      "source": [
        "# レッスン9：Pythonによる機械学習入門：Scikit-learn\n",
        "\n",
        "このレッスンでは、Pythonの機械学習ライブラリであるScikit-learnについて学びます。Scikit-learnは、分類、回帰、クラスタリング、次元削減、モデル選択など、さまざまな機械学習タスクを行うためのツールを提供しています。\n",
        "\n",
        "## 目次\n",
        "\n",
        "1. Scikit-learnの紹介\n",
        "2. Scikit-learnでのデータの準備\n",
        "3. Scikit-learnでのモデルの訓練\n",
        "4. Scikit-learnでのモデルの評価\n",
        "5. Scikit-learnでのモデルの改良\n",
        "6. 演習問題"
      ],
      "metadata": {
        "noteable": {
          "cell_type": "markdown"
        },
        "id": "f8204f11-acc9-42a6-a059-7731f2e6cc43"
      },
      "id": "f8204f11-acc9-42a6-a059-7731f2e6cc43"
    },
    {
      "cell_type": "markdown",
      "source": [
        "## 1. Scikit-learnの紹介\n",
        "\n",
        "Scikit-learnは、Pythonの機械学習ライブラリで、分類、回帰、クラスタリング、次元削減、モデル選択など、さまざまな機械学習タスクを行うためのツールを提供しています。Scikit-learnは、NumPyやSciPyと密接に統合されており、これらのライブラリの機能を活用しています。\n",
        "具体的にどのような機械学習のモデルが利用可能かは[ユーザーガイド](https://scikit-learn.org/stable/user_guide.html)を参照してください。\n",
        "\n",
        "Scikit-learnの主な特徴は次のとおりです。\n",
        "\n",
        "- シンプルで一貫したAPI\n",
        "- 有用なデータセットのサンプル\n",
        "- ベンチマーク用の評価関数\n",
        "- データの前処理とパラメータのチューニングのためのユーティリティ\n",
        "- 豊富なドキュメンテーション\n",
        "\n",
        "Scikit-learnを使用するには、まずライブラリをインポートする必要があります。\n"
      ],
      "metadata": {
        "noteable": {
          "cell_type": "markdown"
        },
        "id": "da0e872f-e9fc-4c91-ae96-adea5e7a4eda"
      },
      "id": "da0e872f-e9fc-4c91-ae96-adea5e7a4eda"
    },
    {
      "cell_type": "code",
      "source": [
        "import sklearn\n",
        "from sklearn import datasets\n",
        "from sklearn import svm"
      ],
      "metadata": {
        "id": "RgptfXlcfvoV"
      },
      "id": "RgptfXlcfvoV",
      "execution_count": 20,
      "outputs": []
    },
    {
      "cell_type": "markdown",
      "source": [
        "このコードは、Scikit-learnライブラリからdatasetsとsvmモジュールをインポートします。"
      ],
      "metadata": {
        "id": "-XujARlufw3s"
      },
      "id": "-XujARlufw3s"
    },
    {
      "cell_type": "markdown",
      "source": [
        "## 2. Scikit-learnでのデータの準備\n",
        "\n",
        "Scikit-learnで機械学習モデルを訓練する前に、データを適切な形式に準備する必要があります。Scikit-learnでは、データは通常、2次元のデータ配列（またはリストのリスト）として表されます。各行はサンプル（またはインスタンス）を表し、各列は特徴（または属性、次元）を表します。\n",
        "\n",
        "Scikit-learnには、機械学習のアルゴリズムを試すためのいくつかのトイデータセットが含まれています。これらのデータセットは、`sklearn.datasets`モジュールを通じて利用できます。\n",
        "\n",
        "以下に、Irisデータセットをロードして表示する例を示します。\n",
        "このコードは、Irisデータセットをロードし、特徴データとターゲットデータ（ラベル）を表示します。特徴データは具体的には花びらやがくの長さなど4種類の測定値、ラベルは花の種類（3種類のどれか1つ）を表します。\n",
        "\n",
        "(参考：https://atmarkit.itmedia.co.jp/ait/articles/2206/13/news032.html )\n"
      ],
      "metadata": {
        "noteable": {
          "cell_type": "markdown"
        },
        "id": "161ccb3a-bb8c-4854-8afc-819910c5b298"
      },
      "id": "161ccb3a-bb8c-4854-8afc-819910c5b298"
    },
    {
      "cell_type": "code",
      "source": [
        "# Irisデータセットの読み込み\n",
        "iris = datasets.load_iris()\n",
        "\n",
        "# 特徴データとラベルデータ\n",
        "print(iris.data)\n",
        "print(iris.target)"
      ],
      "outputs": [
        {
          "output_type": "stream",
          "name": "stdout",
          "text": [
            "[[5.1 3.5 1.4 0.2]\n",
            " [4.9 3.  1.4 0.2]\n",
            " [4.7 3.2 1.3 0.2]\n",
            " [4.6 3.1 1.5 0.2]\n",
            " [5.  3.6 1.4 0.2]\n",
            " [5.4 3.9 1.7 0.4]\n",
            " [4.6 3.4 1.4 0.3]\n",
            " [5.  3.4 1.5 0.2]\n",
            " [4.4 2.9 1.4 0.2]\n",
            " [4.9 3.1 1.5 0.1]\n",
            " [5.4 3.7 1.5 0.2]\n",
            " [4.8 3.4 1.6 0.2]\n",
            " [4.8 3.  1.4 0.1]\n",
            " [4.3 3.  1.1 0.1]\n",
            " [5.8 4.  1.2 0.2]\n",
            " [5.7 4.4 1.5 0.4]\n",
            " [5.4 3.9 1.3 0.4]\n",
            " [5.1 3.5 1.4 0.3]\n",
            " [5.7 3.8 1.7 0.3]\n",
            " [5.1 3.8 1.5 0.3]\n",
            " [5.4 3.4 1.7 0.2]\n",
            " [5.1 3.7 1.5 0.4]\n",
            " [4.6 3.6 1.  0.2]\n",
            " [5.1 3.3 1.7 0.5]\n",
            " [4.8 3.4 1.9 0.2]\n",
            " [5.  3.  1.6 0.2]\n",
            " [5.  3.4 1.6 0.4]\n",
            " [5.2 3.5 1.5 0.2]\n",
            " [5.2 3.4 1.4 0.2]\n",
            " [4.7 3.2 1.6 0.2]\n",
            " [4.8 3.1 1.6 0.2]\n",
            " [5.4 3.4 1.5 0.4]\n",
            " [5.2 4.1 1.5 0.1]\n",
            " [5.5 4.2 1.4 0.2]\n",
            " [4.9 3.1 1.5 0.2]\n",
            " [5.  3.2 1.2 0.2]\n",
            " [5.5 3.5 1.3 0.2]\n",
            " [4.9 3.6 1.4 0.1]\n",
            " [4.4 3.  1.3 0.2]\n",
            " [5.1 3.4 1.5 0.2]\n",
            " [5.  3.5 1.3 0.3]\n",
            " [4.5 2.3 1.3 0.3]\n",
            " [4.4 3.2 1.3 0.2]\n",
            " [5.  3.5 1.6 0.6]\n",
            " [5.1 3.8 1.9 0.4]\n",
            " [4.8 3.  1.4 0.3]\n",
            " [5.1 3.8 1.6 0.2]\n",
            " [4.6 3.2 1.4 0.2]\n",
            " [5.3 3.7 1.5 0.2]\n",
            " [5.  3.3 1.4 0.2]\n",
            " [7.  3.2 4.7 1.4]\n",
            " [6.4 3.2 4.5 1.5]\n",
            " [6.9 3.1 4.9 1.5]\n",
            " [5.5 2.3 4.  1.3]\n",
            " [6.5 2.8 4.6 1.5]\n",
            " [5.7 2.8 4.5 1.3]\n",
            " [6.3 3.3 4.7 1.6]\n",
            " [4.9 2.4 3.3 1. ]\n",
            " [6.6 2.9 4.6 1.3]\n",
            " [5.2 2.7 3.9 1.4]\n",
            " [5.  2.  3.5 1. ]\n",
            " [5.9 3.  4.2 1.5]\n",
            " [6.  2.2 4.  1. ]\n",
            " [6.1 2.9 4.7 1.4]\n",
            " [5.6 2.9 3.6 1.3]\n",
            " [6.7 3.1 4.4 1.4]\n",
            " [5.6 3.  4.5 1.5]\n",
            " [5.8 2.7 4.1 1. ]\n",
            " [6.2 2.2 4.5 1.5]\n",
            " [5.6 2.5 3.9 1.1]\n",
            " [5.9 3.2 4.8 1.8]\n",
            " [6.1 2.8 4.  1.3]\n",
            " [6.3 2.5 4.9 1.5]\n",
            " [6.1 2.8 4.7 1.2]\n",
            " [6.4 2.9 4.3 1.3]\n",
            " [6.6 3.  4.4 1.4]\n",
            " [6.8 2.8 4.8 1.4]\n",
            " [6.7 3.  5.  1.7]\n",
            " [6.  2.9 4.5 1.5]\n",
            " [5.7 2.6 3.5 1. ]\n",
            " [5.5 2.4 3.8 1.1]\n",
            " [5.5 2.4 3.7 1. ]\n",
            " [5.8 2.7 3.9 1.2]\n",
            " [6.  2.7 5.1 1.6]\n",
            " [5.4 3.  4.5 1.5]\n",
            " [6.  3.4 4.5 1.6]\n",
            " [6.7 3.1 4.7 1.5]\n",
            " [6.3 2.3 4.4 1.3]\n",
            " [5.6 3.  4.1 1.3]\n",
            " [5.5 2.5 4.  1.3]\n",
            " [5.5 2.6 4.4 1.2]\n",
            " [6.1 3.  4.6 1.4]\n",
            " [5.8 2.6 4.  1.2]\n",
            " [5.  2.3 3.3 1. ]\n",
            " [5.6 2.7 4.2 1.3]\n",
            " [5.7 3.  4.2 1.2]\n",
            " [5.7 2.9 4.2 1.3]\n",
            " [6.2 2.9 4.3 1.3]\n",
            " [5.1 2.5 3.  1.1]\n",
            " [5.7 2.8 4.1 1.3]\n",
            " [6.3 3.3 6.  2.5]\n",
            " [5.8 2.7 5.1 1.9]\n",
            " [7.1 3.  5.9 2.1]\n",
            " [6.3 2.9 5.6 1.8]\n",
            " [6.5 3.  5.8 2.2]\n",
            " [7.6 3.  6.6 2.1]\n",
            " [4.9 2.5 4.5 1.7]\n",
            " [7.3 2.9 6.3 1.8]\n",
            " [6.7 2.5 5.8 1.8]\n",
            " [7.2 3.6 6.1 2.5]\n",
            " [6.5 3.2 5.1 2. ]\n",
            " [6.4 2.7 5.3 1.9]\n",
            " [6.8 3.  5.5 2.1]\n",
            " [5.7 2.5 5.  2. ]\n",
            " [5.8 2.8 5.1 2.4]\n",
            " [6.4 3.2 5.3 2.3]\n",
            " [6.5 3.  5.5 1.8]\n",
            " [7.7 3.8 6.7 2.2]\n",
            " [7.7 2.6 6.9 2.3]\n",
            " [6.  2.2 5.  1.5]\n",
            " [6.9 3.2 5.7 2.3]\n",
            " [5.6 2.8 4.9 2. ]\n",
            " [7.7 2.8 6.7 2. ]\n",
            " [6.3 2.7 4.9 1.8]\n",
            " [6.7 3.3 5.7 2.1]\n",
            " [7.2 3.2 6.  1.8]\n",
            " [6.2 2.8 4.8 1.8]\n",
            " [6.1 3.  4.9 1.8]\n",
            " [6.4 2.8 5.6 2.1]\n",
            " [7.2 3.  5.8 1.6]\n",
            " [7.4 2.8 6.1 1.9]\n",
            " [7.9 3.8 6.4 2. ]\n",
            " [6.4 2.8 5.6 2.2]\n",
            " [6.3 2.8 5.1 1.5]\n",
            " [6.1 2.6 5.6 1.4]\n",
            " [7.7 3.  6.1 2.3]\n",
            " [6.3 3.4 5.6 2.4]\n",
            " [6.4 3.1 5.5 1.8]\n",
            " [6.  3.  4.8 1.8]\n",
            " [6.9 3.1 5.4 2.1]\n",
            " [6.7 3.1 5.6 2.4]\n",
            " [6.9 3.1 5.1 2.3]\n",
            " [5.8 2.7 5.1 1.9]\n",
            " [6.8 3.2 5.9 2.3]\n",
            " [6.7 3.3 5.7 2.5]\n",
            " [6.7 3.  5.2 2.3]\n",
            " [6.3 2.5 5.  1.9]\n",
            " [6.5 3.  5.2 2. ]\n",
            " [6.2 3.4 5.4 2.3]\n",
            " [5.9 3.  5.1 1.8]]\n",
            "[0 0 0 0 0 0 0 0 0 0 0 0 0 0 0 0 0 0 0 0 0 0 0 0 0 0 0 0 0 0 0 0 0 0 0 0 0\n",
            " 0 0 0 0 0 0 0 0 0 0 0 0 0 1 1 1 1 1 1 1 1 1 1 1 1 1 1 1 1 1 1 1 1 1 1 1 1\n",
            " 1 1 1 1 1 1 1 1 1 1 1 1 1 1 1 1 1 1 1 1 1 1 1 1 1 1 2 2 2 2 2 2 2 2 2 2 2\n",
            " 2 2 2 2 2 2 2 2 2 2 2 2 2 2 2 2 2 2 2 2 2 2 2 2 2 2 2 2 2 2 2 2 2 2 2 2 2\n",
            " 2 2]\n"
          ]
        }
      ],
      "execution_count": null,
      "metadata": {
        "jupyter": {
          "source_hidden": false,
          "outputs_hidden": false
        },
        "noteable": {
          "cell_type": "python"
        },
        "ExecuteTime": {
          "end_time": "2023-06-13T02:08:33.506691+00:00",
          "start_time": "2023-06-13T02:08:32.915292+00:00"
        },
        "id": "b140627b-4d2d-48e0-8367-384debd41907",
        "colab": {
          "base_uri": "https://localhost:8080/"
        },
        "outputId": "d738e78a-8c83-4687-b4f5-3f726c3f1ce7"
      },
      "id": "b140627b-4d2d-48e0-8367-384debd41907"
    },
    {
      "cell_type": "markdown",
      "source": [
        "## 3. Scikit-learnでのモデルの訓練"
      ],
      "metadata": {
        "id": "QcuqYOV5P4RS"
      },
      "id": "QcuqYOV5P4RS"
    },
    {
      "cell_type": "markdown",
      "source": [
        "下に、サポートベクターマシン（SVM）を使用してIrisデータセットのモデルを訓練する例を示します。\n",
        "このコードは、SVC（Support Vector Classification）モデルを訓練します。`gamma`パラメータは、モデルの複雑さを制御します（値が大きいほど複雑なモデルになります）。\n",
        "\n"
      ],
      "metadata": {
        "noteable": {
          "cell_type": "markdown"
        },
        "id": "ba260e26-87f6-4819-b567-d4967b95845e"
      },
      "id": "ba260e26-87f6-4819-b567-d4967b95845e"
    },
    {
      "cell_type": "code",
      "source": [
        "# SVMモデルの訓練\n",
        "clf = svm.SVC(gamma='scale')\n",
        "clf.fit(iris.data, iris.target)"
      ],
      "outputs": [
        {
          "output_type": "execute_result",
          "data": {
            "text/plain": [
              "SVC()"
            ],
            "text/html": [
              "<style>#sk-container-id-2 {color: black;background-color: white;}#sk-container-id-2 pre{padding: 0;}#sk-container-id-2 div.sk-toggleable {background-color: white;}#sk-container-id-2 label.sk-toggleable__label {cursor: pointer;display: block;width: 100%;margin-bottom: 0;padding: 0.3em;box-sizing: border-box;text-align: center;}#sk-container-id-2 label.sk-toggleable__label-arrow:before {content: \"▸\";float: left;margin-right: 0.25em;color: #696969;}#sk-container-id-2 label.sk-toggleable__label-arrow:hover:before {color: black;}#sk-container-id-2 div.sk-estimator:hover label.sk-toggleable__label-arrow:before {color: black;}#sk-container-id-2 div.sk-toggleable__content {max-height: 0;max-width: 0;overflow: hidden;text-align: left;background-color: #f0f8ff;}#sk-container-id-2 div.sk-toggleable__content pre {margin: 0.2em;color: black;border-radius: 0.25em;background-color: #f0f8ff;}#sk-container-id-2 input.sk-toggleable__control:checked~div.sk-toggleable__content {max-height: 200px;max-width: 100%;overflow: auto;}#sk-container-id-2 input.sk-toggleable__control:checked~label.sk-toggleable__label-arrow:before {content: \"▾\";}#sk-container-id-2 div.sk-estimator input.sk-toggleable__control:checked~label.sk-toggleable__label {background-color: #d4ebff;}#sk-container-id-2 div.sk-label input.sk-toggleable__control:checked~label.sk-toggleable__label {background-color: #d4ebff;}#sk-container-id-2 input.sk-hidden--visually {border: 0;clip: rect(1px 1px 1px 1px);clip: rect(1px, 1px, 1px, 1px);height: 1px;margin: -1px;overflow: hidden;padding: 0;position: absolute;width: 1px;}#sk-container-id-2 div.sk-estimator {font-family: monospace;background-color: #f0f8ff;border: 1px dotted black;border-radius: 0.25em;box-sizing: border-box;margin-bottom: 0.5em;}#sk-container-id-2 div.sk-estimator:hover {background-color: #d4ebff;}#sk-container-id-2 div.sk-parallel-item::after {content: \"\";width: 100%;border-bottom: 1px solid gray;flex-grow: 1;}#sk-container-id-2 div.sk-label:hover label.sk-toggleable__label {background-color: #d4ebff;}#sk-container-id-2 div.sk-serial::before {content: \"\";position: absolute;border-left: 1px solid gray;box-sizing: border-box;top: 0;bottom: 0;left: 50%;z-index: 0;}#sk-container-id-2 div.sk-serial {display: flex;flex-direction: column;align-items: center;background-color: white;padding-right: 0.2em;padding-left: 0.2em;position: relative;}#sk-container-id-2 div.sk-item {position: relative;z-index: 1;}#sk-container-id-2 div.sk-parallel {display: flex;align-items: stretch;justify-content: center;background-color: white;position: relative;}#sk-container-id-2 div.sk-item::before, #sk-container-id-2 div.sk-parallel-item::before {content: \"\";position: absolute;border-left: 1px solid gray;box-sizing: border-box;top: 0;bottom: 0;left: 50%;z-index: -1;}#sk-container-id-2 div.sk-parallel-item {display: flex;flex-direction: column;z-index: 1;position: relative;background-color: white;}#sk-container-id-2 div.sk-parallel-item:first-child::after {align-self: flex-end;width: 50%;}#sk-container-id-2 div.sk-parallel-item:last-child::after {align-self: flex-start;width: 50%;}#sk-container-id-2 div.sk-parallel-item:only-child::after {width: 0;}#sk-container-id-2 div.sk-dashed-wrapped {border: 1px dashed gray;margin: 0 0.4em 0.5em 0.4em;box-sizing: border-box;padding-bottom: 0.4em;background-color: white;}#sk-container-id-2 div.sk-label label {font-family: monospace;font-weight: bold;display: inline-block;line-height: 1.2em;}#sk-container-id-2 div.sk-label-container {text-align: center;}#sk-container-id-2 div.sk-container {/* jupyter's `normalize.less` sets `[hidden] { display: none; }` but bootstrap.min.css set `[hidden] { display: none !important; }` so we also need the `!important` here to be able to override the default hidden behavior on the sphinx rendered scikit-learn.org. See: https://github.com/scikit-learn/scikit-learn/issues/21755 */display: inline-block !important;position: relative;}#sk-container-id-2 div.sk-text-repr-fallback {display: none;}</style><div id=\"sk-container-id-2\" class=\"sk-top-container\"><div class=\"sk-text-repr-fallback\"><pre>SVC()</pre><b>In a Jupyter environment, please rerun this cell to show the HTML representation or trust the notebook. <br />On GitHub, the HTML representation is unable to render, please try loading this page with nbviewer.org.</b></div><div class=\"sk-container\" hidden><div class=\"sk-item\"><div class=\"sk-estimator sk-toggleable\"><input class=\"sk-toggleable__control sk-hidden--visually\" id=\"sk-estimator-id-2\" type=\"checkbox\" checked><label for=\"sk-estimator-id-2\" class=\"sk-toggleable__label sk-toggleable__label-arrow\">SVC</label><div class=\"sk-toggleable__content\"><pre>SVC()</pre></div></div></div></div></div>"
            ]
          },
          "metadata": {},
          "execution_count": 17
        }
      ],
      "execution_count": null,
      "metadata": {
        "jupyter": {
          "source_hidden": false,
          "outputs_hidden": false
        },
        "noteable": {
          "cell_type": "python"
        },
        "id": "aa82ee5b-74c5-42e7-8285-829331ca0e03",
        "colab": {
          "base_uri": "https://localhost:8080/",
          "height": 52
        },
        "outputId": "7a36065a-e695-4f92-94ca-7289073796d2"
      },
      "id": "aa82ee5b-74c5-42e7-8285-829331ca0e03"
    },
    {
      "cell_type": "markdown",
      "source": [
        "最後に、`fit()`メソッドを使用してモデルを訓練します。`fit(X, y)`では、特徴量Xと対応するクラスラベルyを使ってモデルを訓練します。\n",
        "\n",
        "このコードを実行すると、clfオブジェクトが訓練され、Irisデータセットの分類モデルが作成されます。このモデルは、与えられた特徴量に基づいてアヤメの品種を予測することができます。"
      ],
      "metadata": {
        "id": "uictSqjZUGie"
      },
      "id": "uictSqjZUGie"
    },
    {
      "cell_type": "markdown",
      "source": [
        "また、ここではデータの全てを訓練用のデータ（Training data)に用いていますが、実際にはデータは訓練データとテストデータに分割して使用される場合が多いです。\n",
        "\n",
        "- **訓練データ（Training Data）**：モデルの学習（訓練）に使用されるデータセットです。モデルは、訓練データの特徴量とそれに対応する正解ラベル（または目標値）の関係を学習します。訓練データは、モデルのパラメータを調整し、最適な予測モデルを構築するために使用されます。モデルが訓練データにうまく適合するように学習することが目標です。\n",
        "- **テストデータ（Test Data）**：モデルの訓練後にその性能を評価するために使用されるデータセットです。テストデータは、モデルが未知のデータにどれだけうまく汎化できるかを評価するために使用されます。モデルがテストデータに対してどれくらい正確に予測できるかは、モデルの性能の指標となります。\n",
        "\n",
        "一般的には、与えられたデータセットを訓練データとテストデータにランダムに分割することです。一般的な割合は、訓練データが70-80％、テストデータが20-30％となるようにします。ただし、データセットのサイズや特定のタスクによって最適な分割方法は異なる場合があります。"
      ],
      "metadata": {
        "id": "z2Z0RUtzSriB"
      },
      "id": "z2Z0RUtzSriB"
    },
    {
      "cell_type": "markdown",
      "source": [
        "## 4. Scikit-learnでのモデルの評価\n",
        "\n",
        "モデルが訓練されたら、その性能を評価する必要があります。Scikit-learnでは、モデルの`predict`メソッドを使用して新しいデータの予測を行い、これを真のターゲットデータと比較することでモデルの性能を評価できます。\n",
        "\n",
        "以下に、訓練済みのSVCモデルを使用して新しいデータの予測を行い、その結果を表示する例を示します。今回はテストデータの分割を行わなかったため、完全に新しいデータの予測を行い、その結果（予測されたラベル、0、1、2のどれか）を表示します。\n",
        "\n",
        "\n"
      ],
      "metadata": {
        "noteable": {
          "cell_type": "markdown"
        },
        "id": "83ad1ecf-0ac4-421e-90f3-852dee6c3299"
      },
      "id": "83ad1ecf-0ac4-421e-90f3-852dee6c3299"
    },
    {
      "cell_type": "code",
      "source": [
        "new_data = [[5.1, 3.5, 1.4, 0.2],\n",
        "            [7.0, 3.2, 4.7, 1.4],\n",
        "            [6.3, 3.3, 6.0, 2.5]]\n",
        "predictions = clf.predict(new_data)\n",
        "print(predictions)"
      ],
      "outputs": [
        {
          "output_type": "stream",
          "name": "stdout",
          "text": [
            "[0 1 2]\n"
          ]
        }
      ],
      "execution_count": null,
      "metadata": {
        "jupyter": {
          "source_hidden": false,
          "outputs_hidden": false
        },
        "noteable": {
          "cell_type": "python"
        },
        "id": "529fae8f-9e07-401b-a764-f549387d9a0f",
        "outputId": "ae38cbb8-ce83-446f-a2b7-07c1b6df5d53",
        "colab": {
          "base_uri": "https://localhost:8080/"
        }
      },
      "id": "529fae8f-9e07-401b-a764-f549387d9a0f"
    },
    {
      "cell_type": "markdown",
      "source": [
        "## 5. Scikit-learnでのモデルの改良\n",
        "\n",
        "モデルの性能が不十分な場合、モデルを改良するためのいくつかの方法があります。以下に、いくつかの一般的なアプローチを示します：\n",
        "\n",
        "- **パラメータチューニング**：ほとんどの機械学習アルゴリズムには、モデルの複雑さや学習率など、モデルの性能に影響を与えるパラメータがあります。これらのパラメータを調整することで、モデルの性能を改善できる可能性があります。\n",
        "- **特徴選択**：使用する特徴を選択することで、モデルの性能を改善できる可能性があります。不要な特徴を削除することで、モデルが重要なパターンに焦点を当てることができます。\n",
        "- **別のモデルの使用**：異なる機械学習アルゴリズムは、異なるタイプのデータやタスクに対して異なる性能を発揮します。したがって、別のモデルを試すことで、モデルの性能を改善できる可能性があります。\n",
        "\n",
        "Scikit-learnには、これらのタスクを支援するための多くのユーティリティが含まれています。例えば、`GridSearchCV`はパラメータチューニングを自動化し、`SelectKBest`は特徴選択を支援します。"
      ],
      "metadata": {
        "noteable": {
          "cell_type": "markdown"
        },
        "id": "a81b0170-594b-47ff-b850-a222c3024fb2"
      },
      "id": "a81b0170-594b-47ff-b850-a222c3024fb2"
    },
    {
      "cell_type": "markdown",
      "source": [
        "## 6. 演習問題\n",
        "\n",
        "以下の演習問題を解いて、Scikit-learnの基本的な使用方法を理解しましょう。\n",
        "\n",
        "1. Scikit-learnのIrisデータセットをロードしてください。\n",
        "2. データセットの特徴データとターゲットデータを表示してください。\n",
        "3. SVC（Support Vector Classification）モデルを訓練してください。\n",
        "4. 新しいデータ（例：[4.0, 3.0, 2.1, 1.8]）の予測を行い、その結果を表示してください。\n",
        "5. モデルのパラメータ`gamma`を`scale`から具体的な数字に変更して（例えば、0, 0.1, 1, 10など）、それがモデルの性能（出力）にどのように影響するかを観察してください。\n",
        "\n",
        "ヒント：\n",
        "- データセットのロード：`datasets.load_iris()`\n",
        "- モデルの訓練：`clf.fit(X, y)`\n",
        "- データの予測：`clf.predict(new_data)`\n",
        "- パラメータの変更：`clf = svm.SVC(gamma=new_value)`\n"
      ],
      "metadata": {
        "noteable": {
          "cell_type": "markdown"
        },
        "id": "9c62a04e-4857-4e44-bd9c-8e278fc69915"
      },
      "id": "9c62a04e-4857-4e44-bd9c-8e278fc69915"
    },
    {
      "cell_type": "code",
      "source": [
        "# 演習問題1, 2\n",
        "# 以下にコードを書いてみましょう"
      ],
      "outputs": [],
      "execution_count": null,
      "metadata": {
        "jupyter": {
          "source_hidden": false,
          "outputs_hidden": false
        },
        "noteable": {
          "cell_type": "python"
        },
        "id": "e138ec15-e2f1-4d81-aac6-b5bf53b6303b"
      },
      "id": "e138ec15-e2f1-4d81-aac6-b5bf53b6303b"
    },
    {
      "cell_type": "code",
      "source": [
        "# 演習問題3, 4, 5\n",
        "# 以下にコードを書いてみましょう"
      ],
      "metadata": {
        "id": "SadAUOK_VP2v"
      },
      "id": "SadAUOK_VP2v",
      "execution_count": null,
      "outputs": []
    }
  ],
  "metadata": {
    "noteable-chatgpt": {
      "create_notebook": {
        "openai_conversation_id": "7c4859b2-432a-5736-b3f9-980532e16451",
        "openai_ephemeral_user_id": "eaeaa345-c135-577d-8b93-1ce98f545fc0",
        "openai_subdivision1_iso_code": "JP-04"
      }
    },
    "noteable": {
      "last_delta_id": "c77b74f5-2388-48a1-915a-ff4387afb6b5"
    },
    "selected_hardware_size": "small",
    "nteract": {
      "version": "noteable@2.9.0"
    },
    "colab": {
      "provenance": [],
      "toc_visible": true
    },
    "language_info": {
      "name": "python"
    },
    "kernelspec": {
      "name": "python3",
      "display_name": "Python 3"
    }
  },
  "nbformat": 4,
  "nbformat_minor": 5
}