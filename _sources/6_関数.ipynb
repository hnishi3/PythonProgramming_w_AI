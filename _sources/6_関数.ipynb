{
  "cells": [
    {
      "cell_type": "markdown",
      "source": [
        "# レッスン6：関数\n",
        "\n",
        "このレッスンでは、Pythonの関数について学びます。\n",
        "\n",
        "## 目次\n",
        "\n",
        "1. 関数の定義\n",
        "2. 関数の引数\n",
        "3. デフォルト引数\n",
        "4. 演習問題\n"
      ],
      "metadata": {
        "noteable": {
          "cell_type": "markdown"
        },
        "id": "580dd492-2858-4cda-92c2-47fa1657b864"
      },
      "id": "580dd492-2858-4cda-92c2-47fa1657b864"
    },
    {
      "cell_type": "markdown",
      "source": [
        "## 1. 関数の定義\n",
        "\n",
        "Pythonでは、`def`キーワードを使用して関数を定義します。以下に、関数の基本的な構造を示します。\n",
        "\n",
        "```python\n",
        "def function_name(parameters):\n",
        "    # function body\n",
        "    return result\n",
        "```\n",
        "\n",
        "ここで、\n",
        "\n",
        "- `function_name`は、関数の名前です。\n",
        "- `parameters`は、関数に渡す引数です。\n",
        "- `function body`は、関数が実行するコードです。\n",
        "- `return`は、関数の結果を返すために使用します。`return`文がない場合、関数は`None`を返します。"
      ],
      "metadata": {
        "noteable": {
          "cell_type": "markdown"
        },
        "id": "932a7711-f97b-4000-ba3e-a6598ae516eb"
      },
      "id": "932a7711-f97b-4000-ba3e-a6598ae516eb"
    },
    {
      "cell_type": "code",
      "source": [
        "def greet(name):\n",
        "    return f'Hello, {name}!'\n",
        "\n",
        "print(greet('Alice'))"
      ],
      "outputs": [
        {
          "output_type": "stream",
          "name": "stdout",
          "text": [
            "Hello, Alice!\n"
          ]
        }
      ],
      "execution_count": null,
      "metadata": {
        "noteable": {
          "cell_type": "code"
        },
        "ExecuteTime": {
          "end_time": "2023-06-11T16:04:41.081287+00:00",
          "start_time": "2023-06-11T16:04:40.921987+00:00"
        },
        "id": "7b0e628b-611f-4f84-b755-1fc6f4a095ec",
        "outputId": "0228d6b0-1d56-409f-af1e-660edb4c338d"
      },
      "id": "7b0e628b-611f-4f84-b755-1fc6f4a095ec"
    },
    {
      "cell_type": "markdown",
      "source": [
        "上記のコードでは、`greet`という名前の関数を定義し、その関数を使用してメッセージを出力しています。\n",
        "\n",
        "## 2. 関数の引数\n",
        "\n",
        "関数は、位置引数とキーワード引数の2種類の引数を取ることができます。\n",
        "\n",
        "- 位置引数は、関数に渡される引数の順序に基づいて関数に渡されます。\n",
        "- キーワード引数は、引数の名前を指定して関数に渡されます。"
      ],
      "metadata": {
        "noteable": {
          "cell_type": "markdown"
        },
        "id": "e0b5a95f-6ad8-47a5-99b3-f288e2a37ed1"
      },
      "id": "e0b5a95f-6ad8-47a5-99b3-f288e2a37ed1"
    },
    {
      "cell_type": "code",
      "source": [
        "def power(base, exponent):\n",
        "    return base ** exponent\n",
        "\n",
        "print(power(2, 3))  # positional arguments\n",
        "print(power(base=2, exponent=3))  # keyword arguments\n",
        "print(power(exponent=3, base=2))  # keyword arguments can be in any order"
      ],
      "outputs": [
        {
          "output_type": "stream",
          "name": "stdout",
          "text": [
            "8\n",
            "8\n",
            "8\n"
          ]
        }
      ],
      "execution_count": null,
      "metadata": {
        "noteable": {
          "cell_type": "code"
        },
        "ExecuteTime": {
          "end_time": "2023-06-11T16:05:37.169124+00:00",
          "start_time": "2023-06-11T16:05:37.010488+00:00"
        },
        "id": "ad837ce5-4670-48d2-b720-4080fa974892",
        "outputId": "8759840a-84fc-4698-b5bb-2565c221d3d1"
      },
      "id": "ad837ce5-4670-48d2-b720-4080fa974892"
    },
    {
      "cell_type": "markdown",
      "source": [
        "上記のコードでは、`power`という名前の関数を定義し、その関数を使用して数値のべき乗を計算しています。関数は、位置引数とキーワード引数の両方を使用して呼び出すことができます。\n",
        "\n",
        "## 3. デフォルト引数\n",
        "\n",
        "関数の引数には、デフォルトの値を設定することができます。これにより、関数を呼び出す際に特定の引数を省略することができます。"
      ],
      "metadata": {
        "noteable": {
          "cell_type": "markdown"
        },
        "id": "c47e08fe-c89e-46d1-9664-d1be67f9f7d5"
      },
      "id": "c47e08fe-c89e-46d1-9664-d1be67f9f7d5"
    },
    {
      "cell_type": "code",
      "source": [
        "def power(base, exponent=2):\n",
        "    return base ** exponent\n",
        "\n",
        "print(power(2))  # uses the default value for exponent\n",
        "print(power(2, 3))  # overrides the default value for exponent"
      ],
      "outputs": [
        {
          "output_type": "stream",
          "name": "stdout",
          "text": [
            "4\n",
            "8\n"
          ]
        }
      ],
      "execution_count": null,
      "metadata": {
        "noteable": {
          "cell_type": "code"
        },
        "ExecuteTime": {
          "end_time": "2023-06-11T16:06:30.382372+00:00",
          "start_time": "2023-06-11T16:06:30.224568+00:00"
        },
        "id": "6f560a7f-a1d0-4a2b-9931-381b4db94d58",
        "outputId": "a27ec2b7-d6a9-4baa-ef43-fd6ea83bf80d"
      },
      "id": "6f560a7f-a1d0-4a2b-9931-381b4db94d58"
    },
    {
      "cell_type": "markdown",
      "source": [
        "上記のコードでは、`power`関数の`exponent`引数にデフォルト値2が設定されています。そのため、関数を呼び出す際に`exponent`引数を省略すると、デフォルト値が使用されます。\n",
        "\n",
        "## 4. 演習問題\n",
        "\n",
        "以下の演習問題を解いてみましょう。\n",
        "\n",
        "1. 2つの数値を引数として取り、その和を返す関数を作成してみましょう。\n",
        "2. リストを引数として取り、そのリストのすべての要素の和を返す関数を作成してみましょう（ヒント：`for`を使います）\n",
        "3. 整数を引数として取り、その整数が偶数であれば`True`を、奇数であれば`False`を返す関数を作成してみましょう。\n",
        "4. 2つの数値と1つの演算子（`+`, `-`, `*`, `/`）を引数として取り、その計算結果を返す関数を作成してみましょう。ただし、無効な演算子が指定された場合はエラーメッセージを返すようにしてください。\n"
      ],
      "metadata": {
        "noteable": {
          "cell_type": "markdown"
        },
        "id": "e79ae59b-977e-44dd-bf51-6ffcfcafe8ad"
      },
      "id": "e79ae59b-977e-44dd-bf51-6ffcfcafe8ad"
    },
    {
      "cell_type": "code",
      "source": [
        "# 演習問題\n",
        "# 以下にコードを書いてみましょう"
      ],
      "outputs": [],
      "execution_count": null,
      "metadata": {
        "jupyter": {
          "source_hidden": false,
          "outputs_hidden": false
        },
        "noteable": {
          "cell_type": "python"
        },
        "id": "4e8916bf-a13d-4d4c-b1c7-7e4e1b29cd77"
      },
      "id": "4e8916bf-a13d-4d4c-b1c7-7e4e1b29cd77"
    }
  ],
  "metadata": {
    "noteable-chatgpt": {
      "create_notebook": {
        "openai_conversation_id": "7c4859b2-432a-5736-b3f9-980532e16451",
        "openai_ephemeral_user_id": "eaeaa345-c135-577d-8b93-1ce98f545fc0",
        "openai_subdivision1_iso_code": "JP-04"
      }
    },
    "noteable": {
      "last_delta_id": "a7dbd363-da31-4170-9567-f2c3addde5ae"
    },
    "nteract": {
      "version": "noteable@2.9.0"
    },
    "colab": {
      "provenance": [],
      "toc_visible": true
    }
  },
  "nbformat": 4,
  "nbformat_minor": 5
}